{
 "cells": [
  {
   "cell_type": "code",
   "execution_count": 6,
   "metadata": {},
   "outputs": [
    {
     "name": "stdin",
     "output_type": "stream",
     "text": [
      "enter your chosen number 4\n"
     ]
    },
    {
     "name": "stdout",
     "output_type": "stream",
     "text": [
      "more than 3\n",
      "X is <class 'float'>\n"
     ]
    }
   ],
   "source": [
    "#Q1\n",
    "#Answer: a.Num, b. float, d. int, \n",
    "#e.g:\n",
    "num = int(input('enter your chosen number'))\n",
    "if num>=3:\n",
    "    print(\"more than 3\")\n",
    "    \n",
    "x = 3.4\n",
    "print(\"X is\",type(x))"
   ]
  },
  {
   "cell_type": "code",
   "execution_count": 9,
   "metadata": {},
   "outputs": [
    {
     "name": "stdout",
     "output_type": "stream",
     "text": [
      "4\n",
      "3.6\n"
     ]
    }
   ],
   "source": [
    "#Q2\n",
    "#Answer: round() function\n",
    "z = 3.57\n",
    "print(round(z))\n",
    "#or\n",
    "print(round(z,1))\n"
   ]
  },
  {
   "cell_type": "code",
   "execution_count": 14,
   "metadata": {},
   "outputs": [
    {
     "data": {
      "text/plain": [
       "3.14"
      ]
     },
     "execution_count": 14,
     "metadata": {},
     "output_type": "execute_result"
    }
   ],
   "source": [
    "#Q3\n",
    "#Answer: abs(-3.14)\n",
    "#e.g.\n",
    "abs(-3.14)"
   ]
  },
  {
   "cell_type": "code",
   "execution_count": 16,
   "metadata": {},
   "outputs": [
    {
     "name": "stdout",
     "output_type": "stream",
     "text": [
      "100.256\n",
      "100.0\n"
     ]
    }
   ],
   "source": [
    "#Q4\n",
    "#Answer: c) 100.256 & 100.0\n",
    "#e.g:\n",
    "print(round(100.2563, 3))\n",
    "print(round(100.0000256, 3))\n"
   ]
  },
  {
   "cell_type": "code",
   "execution_count": 25,
   "metadata": {},
   "outputs": [],
   "source": [
    "#Q5\n",
    "#Answer: B. Value Error:Missing an imaginary part of the complex number\n",
    "#e.g.\n",
    "d=complex(1.25)"
   ]
  },
  {
   "cell_type": "code",
   "execution_count": 24,
   "metadata": {},
   "outputs": [
    {
     "name": "stdout",
     "output_type": "stream",
     "text": [
      "45.3\n"
     ]
    }
   ],
   "source": [
    "#Q6\n",
    "#Answer: A. 45.3\n",
    "print(abs(-45.300))"
   ]
  },
  {
   "cell_type": "code",
   "execution_count": 26,
   "metadata": {},
   "outputs": [
    {
     "name": "stdout",
     "output_type": "stream",
     "text": [
      "253\n",
      "252\n"
     ]
    }
   ],
   "source": [
    "#7\n",
    "#Answer: C. 253 & 252\n",
    "import math \n",
    "print(math.ceil(252.4))\n",
    "print(math.floor(252.4))"
   ]
  },
  {
   "cell_type": "code",
   "execution_count": 31,
   "metadata": {},
   "outputs": [
    {
     "name": "stdout",
     "output_type": "stream",
     "text": [
      "a is <class 'float'>\n",
      "b is <class 'float'>\n",
      "c is <class 'float'>\n",
      "d is <class 'float'>\n"
     ]
    }
   ],
   "source": [
    "#8\n",
    "#Answer: All\n",
    "a = 10.1256\n",
    "b = -10.5\n",
    "c = 42e3\n",
    "d = -68.7e100\n",
    "print(\"a is\",type(a))\n",
    "print(\"b is\", type(b))\n",
    "print(\"c is\", type(c))\n",
    "print(\"d is\", type(d))"
   ]
  },
  {
   "cell_type": "code",
   "execution_count": 32,
   "metadata": {},
   "outputs": [
    {
     "name": "stdout",
     "output_type": "stream",
     "text": [
      "2\n"
     ]
    }
   ],
   "source": [
    "#Q9\n",
    "#Ans = 2\n",
    "print(int(2.999))"
   ]
  },
  {
   "cell_type": "code",
   "execution_count": 34,
   "metadata": {},
   "outputs": [
    {
     "data": {
      "text/plain": [
       "int"
      ]
     },
     "execution_count": 34,
     "metadata": {},
     "output_type": "execute_result"
    }
   ],
   "source": [
    "#Q10\n",
    "#Ans = Interger(int)\n",
    "a = 30\n",
    "type(a)"
   ]
  },
  {
   "cell_type": "code",
   "execution_count": 35,
   "metadata": {},
   "outputs": [
    {
     "data": {
      "text/plain": [
       "float"
      ]
     },
     "execution_count": 35,
     "metadata": {},
     "output_type": "execute_result"
    }
   ],
   "source": [
    "#Q11\n",
    "#Answer = c = Float\n",
    "pi = 3.14\n",
    "type(pi)"
   ]
  },
  {
   "cell_type": "code",
   "execution_count": 36,
   "metadata": {},
   "outputs": [
    {
     "data": {
      "text/plain": [
       "str"
      ]
     },
     "execution_count": 36,
     "metadata": {},
     "output_type": "execute_result"
    }
   ],
   "source": [
    "#Q12\n",
    "#Answer = String\n",
    "numberOfLives = 'This is a string variable'\n",
    "type(numberOfLives)\n"
   ]
  },
  {
   "cell_type": "code",
   "execution_count": 1,
   "metadata": {},
   "outputs": [
    {
     "name": "stdin",
     "output_type": "stream",
     "text": [
      "number =  5\n"
     ]
    },
    {
     "name": "stdout",
     "output_type": "stream",
     "text": [
      "6\n"
     ]
    }
   ],
   "source": [
    "#Q13\n",
    "#Answer = a. a changable value such as a score in a computer game\n",
    "\n",
    "a = int(input('number = '))\n",
    "b = 3\n",
    "if  a>3:\n",
    "    a= a+1\n",
    "    print(a)\n",
    "else:\n",
    "    a = a-1\n",
    "    print(a)"
   ]
  },
  {
   "cell_type": "code",
   "execution_count": 5,
   "metadata": {},
   "outputs": [
    {
     "data": {
      "text/plain": [
       "2"
      ]
     },
     "execution_count": 5,
     "metadata": {},
     "output_type": "execute_result"
    }
   ],
   "source": [
    "#Q14\n",
    "#ans: a)1.7\n",
    "round(1.7,1)"
   ]
  },
  {
   "cell_type": "code",
   "execution_count": 9,
   "metadata": {},
   "outputs": [
    {
     "data": {
      "text/plain": [
       "-2.96"
      ]
     },
     "execution_count": 9,
     "metadata": {},
     "output_type": "execute_result"
    }
   ],
   "source": [
    "#15\n",
    "#Ans = d)-2.96\n",
    "round(-2.961,2)\n",
    "\n"
   ]
  },
  {
   "cell_type": "code",
   "execution_count": 25,
   "metadata": {},
   "outputs": [
    {
     "ename": "SyntaxError",
     "evalue": "invalid syntax (<ipython-input-25-4394b62b1519>, line 9)",
     "output_type": "error",
     "traceback": [
      "\u001b[0;36m  File \u001b[0;32m\"<ipython-input-25-4394b62b1519>\"\u001b[0;36m, line \u001b[0;32m9\u001b[0m\n\u001b[0;31m    c = 2+3l\u001b[0m\n\u001b[0m           ^\u001b[0m\n\u001b[0;31mSyntaxError\u001b[0m\u001b[0;31m:\u001b[0m invalid syntax\n"
     ]
    }
   ],
   "source": [
    "#Q16\n",
    "#Ans: C\n",
    "print(\"a is\",type(a))\n",
    "a = 2+3j\n",
    "print(\"b is\",type(b))\n",
    "b = complex(2,3)\n",
    "#error shows up because c is not valid\n",
    "print(\"c is\",type(c))\n",
    "c = 2+3l\n",
    "print(\"d is\",type(d))\n",
    "d = 2+3J"
   ]
  },
  {
   "cell_type": "code",
   "execution_count": 27,
   "metadata": {},
   "outputs": [
    {
     "name": "stdout",
     "output_type": "stream",
     "text": [
      "a is <class 'complex'>\n",
      "b is <class 'complex'>\n",
      "d is <class 'complex'>\n"
     ]
    }
   ],
   "source": [
    "#proof rest are complex\n",
    "print(\"a is\",type(a))\n",
    "a = 2+3j\n",
    "print(\"b is\",type(b))\n",
    "b = complex(2,3)\n",
    "print(\"d is\",type(d))\n",
    "d = 2+3J"
   ]
  },
  {
   "cell_type": "code",
   "execution_count": 28,
   "metadata": {},
   "outputs": [
    {
     "name": "stdout",
     "output_type": "stream",
     "text": [
      "<class 'type'>\n"
     ]
    }
   ],
   "source": [
    "#Q17\n",
    "#Ans: b) type 'type'\n",
    "print(type(type(int)))"
   ]
  },
  {
   "cell_type": "code",
   "execution_count": 29,
   "metadata": {},
   "outputs": [
    {
     "name": "stdout",
     "output_type": "stream",
     "text": [
      "this is a built in function\n"
     ]
    }
   ],
   "source": [
    "#Q18\n",
    "#Answer: Print()\n",
    "print(\"this is a built in function\")"
   ]
  },
  {
   "cell_type": "code",
   "execution_count": 30,
   "metadata": {},
   "outputs": [
    {
     "data": {
      "text/plain": [
       "5"
      ]
     },
     "execution_count": 30,
     "metadata": {},
     "output_type": "execute_result"
    }
   ],
   "source": [
    "#Q19\n",
    "#Answer:5\n",
    "round(4.576)"
   ]
  },
  {
   "cell_type": "code",
   "execution_count": 31,
   "metadata": {},
   "outputs": [
    {
     "data": {
      "text/plain": [
       "False"
      ]
     },
     "execution_count": 31,
     "metadata": {},
     "output_type": "execute_result"
    }
   ],
   "source": [
    "#Q20\n",
    "#Anwer: false\n",
    "min(max(False,-3,-4),2,7)"
   ]
  },
  {
   "cell_type": "code",
   "execution_count": 33,
   "metadata": {},
   "outputs": [
    {
     "name": "stdout",
     "output_type": "stream",
     "text": [
      "140716080982608\n"
     ]
    }
   ],
   "source": [
    "#Q21\n",
    "#Answer: Id() returns the identity of the object.\n",
    "list = [1,2,3,4]\n",
    "print(id(list))"
   ]
  },
  {
   "cell_type": "code",
   "execution_count": 34,
   "metadata": {},
   "outputs": [],
   "source": [
    "#Q22\n",
    "#Answer: Typecasting\n"
   ]
  },
  {
   "cell_type": "code",
   "execution_count": 36,
   "metadata": {},
   "outputs": [
    {
     "data": {
      "text/plain": [
       "int"
      ]
     },
     "execution_count": 36,
     "metadata": {},
     "output_type": "execute_result"
    }
   ],
   "source": [
    "#Q23\n",
    "#Ans: predifined \n",
    "type(1)"
   ]
  },
  {
   "cell_type": "code",
   "execution_count": 37,
   "metadata": {},
   "outputs": [
    {
     "name": "stdout",
     "output_type": "stream",
     "text": [
      "<class 'int'>\n"
     ]
    }
   ],
   "source": [
    "#Q24\n",
    "print(type(3))"
   ]
  },
  {
   "cell_type": "code",
   "execution_count": 48,
   "metadata": {},
   "outputs": [
    {
     "data": {
      "text/plain": [
       "float"
      ]
     },
     "execution_count": 48,
     "metadata": {},
     "output_type": "execute_result"
    }
   ],
   "source": [
    "#Q25\n",
    "#Answer = float\n",
    "Infinity = float('inf')\n",
    "type(Infinity)"
   ]
  },
  {
   "cell_type": "code",
   "execution_count": null,
   "metadata": {},
   "outputs": [],
   "source": []
  }
 ],
 "metadata": {
  "kernelspec": {
   "display_name": "Python 3",
   "language": "python",
   "name": "python3"
  },
  "language_info": {
   "codemirror_mode": {
    "name": "ipython",
    "version": 3
   },
   "file_extension": ".py",
   "mimetype": "text/x-python",
   "name": "python",
   "nbconvert_exporter": "python",
   "pygments_lexer": "ipython3",
   "version": "3.7.6"
  }
 },
 "nbformat": 4,
 "nbformat_minor": 4
}
