{
 "cells": [
  {
   "cell_type": "code",
   "execution_count": 1,
   "metadata": {},
   "outputs": [
    {
     "name": "stdout",
     "output_type": "stream",
     "text": [
      "llo\n"
     ]
    },
    {
     "data": {
      "text/plain": [
       "'llo'"
      ]
     },
     "execution_count": 1,
     "metadata": {},
     "output_type": "execute_result"
    }
   ],
   "source": [
    "#Question1\n",
    "txt = \"Hello World\"\n",
    "x = txt[2:5]\n",
    "print(x)\n",
    "#or\n",
    "txt = \"Hello World\"\n",
    "txt[2:5]"
   ]
  },
  {
   "cell_type": "code",
   "execution_count": 2,
   "metadata": {},
   "outputs": [
    {
     "name": "stdout",
     "output_type": "stream",
     "text": [
      "Hello World\n"
     ]
    },
    {
     "data": {
      "text/plain": [
       "'Hello World'"
      ]
     },
     "execution_count": 2,
     "metadata": {},
     "output_type": "execute_result"
    }
   ],
   "source": [
    "#Question 2\n",
    "txt = \" Hello World\"\n",
    "x = txt[1:]\n",
    "print(x)\n",
    "#or\n",
    "txt = \" Hello World\"\n",
    "txt[1:]"
   ]
  },
  {
   "cell_type": "code",
   "execution_count": 3,
   "metadata": {},
   "outputs": [
    {
     "name": "stdout",
     "output_type": "stream",
     "text": [
      "HELLO WORLD\n"
     ]
    },
    {
     "data": {
      "text/plain": [
       "'HELLO WORLD'"
      ]
     },
     "execution_count": 3,
     "metadata": {},
     "output_type": "execute_result"
    }
   ],
   "source": [
    "#Question 3\n",
    "txt = \"Hello World\"\n",
    "x = txt.upper()\n",
    "print(x)\n",
    "#or\n",
    "txt = \"Hello World\"\n",
    "txt.upper()"
   ]
  },
  {
   "cell_type": "code",
   "execution_count": 4,
   "metadata": {},
   "outputs": [
    {
     "name": "stdout",
     "output_type": "stream",
     "text": [
      "Jello World\n"
     ]
    }
   ],
   "source": [
    "#Question 4\n",
    "txt = \"Hello World\"\n",
    "txt = txt.replace(\"H\",\"J\")\n",
    "print(txt)"
   ]
  },
  {
   "cell_type": "code",
   "execution_count": 5,
   "metadata": {},
   "outputs": [
    {
     "name": "stdout",
     "output_type": "stream",
     "text": [
      "My name is John, and I am 36\n"
     ]
    }
   ],
   "source": [
    "#Question 5\n",
    "age = 36\n",
    "txt = \"My name is John, and I am {age:}\"\n",
    "print(txt.format(age = age))\n"
   ]
  },
  {
   "cell_type": "code",
   "execution_count": 6,
   "metadata": {},
   "outputs": [
    {
     "name": "stdout",
     "output_type": "stream",
     "text": [
      "True\n"
     ]
    }
   ],
   "source": [
    "#Question 6\n",
    "s = 'coding'\n",
    "t = 'hero'\n",
    "print('dingh' in 2* (s+t))\n",
    "#Output it True because \"dingh\" is present in the string(s) and is the 2nd character in the string(s)"
   ]
  },
  {
   "cell_type": "code",
   "execution_count": 100,
   "metadata": {},
   "outputs": [
    {
     "name": "stdout",
     "output_type": "stream",
     "text": [
      "gnidoc\n"
     ]
    }
   ],
   "source": [
    "#Question 7\n",
    "s = 'coding'\n",
    "t = 'hero'\n",
    "print(s[::-1])"
   ]
  },
  {
   "cell_type": "code",
   "execution_count": 8,
   "metadata": {},
   "outputs": [
    {
     "name": "stdout",
     "output_type": "stream",
     "text": [
      "True\n",
      "True\n",
      "False\n",
      "True\n"
     ]
    }
   ],
   "source": [
    "#Question 8 \n",
    "print(s[:] is s) #True\n",
    "print(s[::-1][::-1]==s) #True\n",
    "print(s[::-1][::-1] is s) #False\n",
    "print(s[:] == s)#True\n"
   ]
  },
  {
   "cell_type": "code",
   "execution_count": 9,
   "metadata": {},
   "outputs": [
    {
     "name": "stdout",
     "output_type": "stream",
     "text": [
      "3 1 2\n"
     ]
    }
   ],
   "source": [
    "#Question 9\n",
    "print( \n",
    "     '$100 $200 $300'.count('$'),\n",
    "      '$100 $200 $300'.count('$',5, 10),\n",
    "       '$100 $200 $300'.count('$', 5)\n",
    ")\n",
    "#Output 3 1 2"
   ]
  },
  {
   "cell_type": "code",
   "execution_count": 10,
   "metadata": {},
   "outputs": [
    {
     "name": "stdout",
     "output_type": "stream",
     "text": [
      "coding-hero\n",
      "coding-hero\n",
      "coding---hero\n",
      "coding-hero\n"
     ]
    }
   ],
   "source": [
    "#Question 10\n",
    "s ='coding-hero'\n",
    "print(s.upper().lower()) #no\n",
    "print(s.strip('-')) #no\n",
    "print('-'.join(s.partition('-'))) #yes\n",
    "print('-'.join(s.split('-'))) #no\n",
    "#Answer = c"
   ]
  },
  {
   "cell_type": "code",
   "execution_count": 11,
   "metadata": {},
   "outputs": [
    {
     "name": "stdout",
     "output_type": "stream",
     "text": [
      "codingheroes\n",
      "coding heroes\n",
      "coding heroes\n",
      "coding heroes\n"
     ]
    }
   ],
   "source": [
    "#Question 11 \n",
    "print ('coding' 'heroes')\n",
    "print ('coding ' 'heroes')\n",
    "print ('coding' ' heroes')\n",
    "print ('coding heroes')"
   ]
  },
  {
   "cell_type": "code",
   "execution_count": 12,
   "metadata": {},
   "outputs": [
    {
     "name": "stdout",
     "output_type": "stream",
     "text": [
      "Name:Shobhit\n",
      "Name:Name:Name:\n",
      "False\n"
     ]
    }
   ],
   "source": [
    "#Question 12\n",
    "#abd\n",
    "a = \"Name:\"\n",
    "b = \"Shobhit\"\n",
    "c = a+b #a\n",
    "print(c)\n",
    "d = a *3 #b\n",
    "print(d)\n",
    "e = a in b #d\n",
    "print(e)\n",
    "# c(- or substraction) cannot be used with strings"
   ]
  },
  {
   "cell_type": "code",
   "execution_count": 13,
   "metadata": {},
   "outputs": [
    {
     "ename": "TypeError",
     "evalue": "unsupported operand type(s) for -: 'str' and 'str'",
     "output_type": "error",
     "traceback": [
      "\u001b[1;31m---------------------------------------------------------------------------\u001b[0m",
      "\u001b[1;31mTypeError\u001b[0m                                 Traceback (most recent call last)",
      "\u001b[1;32m<ipython-input-13-b9748e645126>\u001b[0m in \u001b[0;36m<module>\u001b[1;34m\u001b[0m\n\u001b[0;32m      1\u001b[0m \u001b[1;31m#proof of not being able to work\u001b[0m\u001b[1;33m\u001b[0m\u001b[1;33m\u001b[0m\u001b[1;33m\u001b[0m\u001b[0m\n\u001b[1;32m----> 2\u001b[1;33m \u001b[0mf\u001b[0m \u001b[1;33m=\u001b[0m \u001b[0ma\u001b[0m \u001b[1;33m-\u001b[0m\u001b[0mb\u001b[0m\u001b[1;33m\u001b[0m\u001b[1;33m\u001b[0m\u001b[0m\n\u001b[0m\u001b[0;32m      3\u001b[0m \u001b[0mprint\u001b[0m\u001b[1;33m(\u001b[0m\u001b[0mf\u001b[0m\u001b[1;33m)\u001b[0m\u001b[1;33m\u001b[0m\u001b[1;33m\u001b[0m\u001b[0m\n\u001b[0;32m      4\u001b[0m \u001b[1;31m#error shows up\u001b[0m\u001b[1;33m\u001b[0m\u001b[1;33m\u001b[0m\u001b[1;33m\u001b[0m\u001b[0m\n",
      "\u001b[1;31mTypeError\u001b[0m: unsupported operand type(s) for -: 'str' and 'str'"
     ]
    }
   ],
   "source": [
    "#proof of not being able to work\n",
    "f = a -b \n",
    "print(f)\n",
    "#error shows up"
   ]
  },
  {
   "cell_type": "code",
   "execution_count": 38,
   "metadata": {},
   "outputs": [
    {
     "data": {
      "text/plain": [
       "24"
      ]
     },
     "execution_count": 38,
     "metadata": {},
     "output_type": "execute_result"
    }
   ],
   "source": [
    "#Question 13 \n",
    "str1 = 'hello my name is shobhit'\n",
    "len(str1)\n",
    "#Answer:B\n",
    "#Rest shows error"
   ]
  },
  {
   "cell_type": "code",
   "execution_count": 91,
   "metadata": {},
   "outputs": [
    {
     "name": "stdout",
     "output_type": "stream",
     "text": [
      "C:\\Common\\TestString.doc\n"
     ]
    }
   ],
   "source": [
    "#Question 14\n",
    "#Answer= 3\n",
    "str = 'C:\\Common\\TestString.doc'\n",
    "print(str)"
   ]
  },
  {
   "cell_type": "code",
   "execution_count": 41,
   "metadata": {},
   "outputs": [
    {
     "name": "stdout",
     "output_type": "stream",
     "text": [
      "Good-bye\n"
     ]
    }
   ],
   "source": [
    "#Question 15\n",
    "str = 'good-BYE'\n",
    "print(str.capitalize())\n",
    "#Answer: D"
   ]
  },
  {
   "cell_type": "code",
   "execution_count": 42,
   "metadata": {},
   "outputs": [
    {
     "name": "stdout",
     "output_type": "stream",
     "text": [
      "4\n"
     ]
    }
   ],
   "source": [
    "#Question 16\n",
    "str = 'hello world'\n",
    "print (str.find('o'))\n",
    "#answer: c\n",
    "# o is 4th character\n"
   ]
  },
  {
   "cell_type": "code",
   "execution_count": 43,
   "metadata": {},
   "outputs": [
    {
     "name": "stdout",
     "output_type": "stream",
     "text": [
      "ng He\n"
     ]
    }
   ],
   "source": [
    "#Question 17 \n",
    "str = 'Coding Hero'\n",
    "print(str[4:9])"
   ]
  },
  {
   "cell_type": "code",
   "execution_count": 44,
   "metadata": {},
   "outputs": [
    {
     "data": {
      "text/plain": [
       "True"
      ]
     },
     "execution_count": 44,
     "metadata": {},
     "output_type": "execute_result"
    }
   ],
   "source": [
    "#Q18\n",
    "str = 'This is orange juice'\n",
    "a = 'orange'\n",
    "a in str"
   ]
  },
  {
   "cell_type": "code",
   "execution_count": 46,
   "metadata": {},
   "outputs": [
    {
     "name": "stdout",
     "output_type": "stream",
     "text": [
      "enter your nameShobhit Kumar Chaudhary\n",
      "S.K.Chaudhary\n"
     ]
    }
   ],
   "source": [
    "#q19\n",
    "def name(s):  \n",
    "    l = s.split() \n",
    "    V = \"\" \n",
    "    for i in range(len(l)-1): \n",
    "        s = l[i] \n",
    "        V += (s[0].upper()+'.') \n",
    "    V += l[-1].title() \n",
    "    return V \n",
    "s = input('enter your name')\n",
    "print(name(s))\n"
   ]
  },
  {
   "cell_type": "code",
   "execution_count": 54,
   "metadata": {},
   "outputs": [
    {
     "name": "stdout",
     "output_type": "stream",
     "text": [
      "It is a Palindrome\n"
     ]
    }
   ],
   "source": [
    "#Q20\n",
    "def Palindrome(s): \n",
    "    return s == s[::-1] \n",
    "s = \"racecar\"\n",
    "ans = Palindrome(s) \n",
    "if ans: \n",
    "    print(\"It is a Palindrome\") \n",
    "else: \n",
    "    print(\"It is not a Palindrome\") \n"
   ]
  },
  {
   "cell_type": "code",
   "execution_count": 58,
   "metadata": {},
   "outputs": [
    {
     "name": "stdout",
     "output_type": "stream",
     "text": [
      "\\ncodinghero\n",
      "\n",
      "codinghero\n"
     ]
    }
   ],
   "source": [
    "#Q21\n",
    "print(r\"\\ncodinghero\")\n",
    "print(\"\\ncodinghero\")"
   ]
  },
  {
   "cell_type": "code",
   "execution_count": 75,
   "metadata": {},
   "outputs": [
    {
     "name": "stdout",
     "output_type": "stream",
     "text": [
      "d: ['My nam', ' is Shobhit and I am fift', 'en years old']\n",
      "c: ['My nam', ' is Shobhit and I am fift', 'en years old']\n"
     ]
    }
   ],
   "source": [
    "#Q22\n",
    "# Answer: B & C\n",
    "\n",
    "#B\n",
    "input_string = 'My name is Shobhit and I am fifteen years old' \n",
    "print(\"d:\",input_string.split('e', 2))\n",
    "\n",
    "#C \n",
    "input_string = 'My name is Shobhit and I am fifteen years old' \n",
    "print(\"c:\",input_string.split('e', maxsplit=2))"
   ]
  },
  {
   "cell_type": "code",
   "execution_count": 84,
   "metadata": {},
   "outputs": [
    {
     "data": {
      "text/plain": [
       "float"
      ]
     },
     "execution_count": 84,
     "metadata": {},
     "output_type": "execute_result"
    }
   ],
   "source": [
    "#Q23\n",
    "#Answer: float\n",
    "y = 3.65\n",
    "type(y)"
   ]
  },
  {
   "cell_type": "code",
   "execution_count": null,
   "metadata": {},
   "outputs": [],
   "source": []
  }
 ],
 "metadata": {
  "kernelspec": {
   "display_name": "Python 3",
   "language": "python",
   "name": "python3"
  },
  "language_info": {
   "codemirror_mode": {
    "name": "ipython",
    "version": 3
   },
   "file_extension": ".py",
   "mimetype": "text/x-python",
   "name": "python",
   "nbconvert_exporter": "python",
   "pygments_lexer": "ipython3",
   "version": "3.8.3"
  }
 },
 "nbformat": 4,
 "nbformat_minor": 4
}
