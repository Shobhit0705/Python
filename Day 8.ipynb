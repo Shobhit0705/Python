{
 "cells": [
  {
   "cell_type": "code",
   "execution_count": 1,
   "metadata": {},
   "outputs": [
    {
     "name": "stdout",
     "output_type": "stream",
     "text": [
      "False\n"
     ]
    }
   ],
   "source": [
    "#Q1\n",
    "#Answer = b.False\n",
    "print(4==99)"
   ]
  },
  {
   "cell_type": "code",
   "execution_count": 2,
   "metadata": {},
   "outputs": [
    {
     "name": "stdout",
     "output_type": "stream",
     "text": [
      "True\n"
     ]
    }
   ],
   "source": [
    "#Q2\n",
    "#Answer = a.True\n",
    "print(10==10)"
   ]
  },
  {
   "cell_type": "code",
   "execution_count": 5,
   "metadata": {},
   "outputs": [
    {
     "name": "stdout",
     "output_type": "stream",
     "text": [
      "True\n"
     ]
    }
   ],
   "source": [
    "#Q3\n",
    "#answer = a.True\n",
    "print(\"cat\"!=\"dog\")"
   ]
  },
  {
   "cell_type": "code",
   "execution_count": 6,
   "metadata": {},
   "outputs": [
    {
     "name": "stdout",
     "output_type": "stream",
     "text": [
      "True\n"
     ]
    }
   ],
   "source": [
    "#Q4\n",
    "#answer = a. True\n",
    "print(\"lion\" == \"cat\" or 99 != 88)"
   ]
  },
  {
   "cell_type": "code",
   "execution_count": 7,
   "metadata": {},
   "outputs": [
    {
     "name": "stdout",
     "output_type": "stream",
     "text": [
      "True\n"
     ]
    }
   ],
   "source": [
    "#Q5\n",
    "#answer = a.True\n",
    "print(True and (4==4))"
   ]
  },
  {
   "cell_type": "code",
   "execution_count": 18,
   "metadata": {},
   "outputs": [
    {
     "name": "stdout",
     "output_type": "stream",
     "text": [
      "True: <class 'bool'>\n",
      "b: <class 'bool'>\n",
      "c: <class 'int'>\n",
      "d: <class 'bool'>\n",
      "False: <class 'bool'>\n",
      "Boolean expressions are:\n",
      "    a. True\n",
      "    b. 3==4\n",
      "    d. 3+4==7\n",
      "    e. False\n"
     ]
    }
   ],
   "source": [
    "#Q6\n",
    "print(\"True:\",type(True)) \n",
    "\n",
    "b = 3==4\n",
    "print(\"b:\",type(A))\n",
    "\n",
    "c = 3+4\n",
    "print(\"c:\",type(c))\n",
    "\n",
    "d = 3+4==7\n",
    "print(\"d:\",type(d))\n",
    "\n",
    "print(\"False:\", type(False))\n",
    "\n",
    "print(\"\"\"Boolean expressions are:\n",
    "    a. True\n",
    "    b. 3==4\n",
    "    d. 3+4==7\n",
    "    e. False\"\"\")\n"
   ]
  },
  {
   "cell_type": "code",
   "execution_count": 19,
   "metadata": {},
   "outputs": [
    {
     "name": "stdout",
     "output_type": "stream",
     "text": [
      "True\n"
     ]
    }
   ],
   "source": [
    "#Q7\n",
    "#Answer: True\n",
    "is_it_true = (3*4>10) and (5+5>=10)\n",
    "print(is_it_true)"
   ]
  },
  {
   "cell_type": "code",
   "execution_count": 21,
   "metadata": {},
   "outputs": [
    {
     "name": "stdout",
     "output_type": "stream",
     "text": [
      "True\n"
     ]
    }
   ],
   "source": [
    "#Q8\n",
    "#Answer: True\n",
    "is_it_true = (3*4>10) and (5+5>=10) and (4*4>15)\n",
    "print(is_it_true)"
   ]
  },
  {
   "cell_type": "code",
   "execution_count": 22,
   "metadata": {},
   "outputs": [
    {
     "name": "stdout",
     "output_type": "stream",
     "text": [
      "True\n"
     ]
    }
   ],
   "source": [
    "#Q9 \n",
    "#Answer: True\n",
    "is_it_true = (3*4>10) and (5+5>=10) and (4*4>15) and (5+4<10)\n",
    "print(is_it_true)"
   ]
  },
  {
   "cell_type": "code",
   "execution_count": 23,
   "metadata": {},
   "outputs": [
    {
     "name": "stdout",
     "output_type": "stream",
     "text": [
      "True\n"
     ]
    }
   ],
   "source": [
    "#Q10\n",
    "#Answer: True\n",
    "a,b = 10,20\n",
    "print (not(a>b and a!=b) or a !=b)"
   ]
  },
  {
   "cell_type": "code",
   "execution_count": 28,
   "metadata": {},
   "outputs": [
    {
     "name": "stdout",
     "output_type": "stream",
     "text": [
      "Enter first number:5\n",
      "Enter second number5\n",
      "True\n"
     ]
    }
   ],
   "source": [
    "#Q11\n",
    "a  = int(input('Enter first number:'))\n",
    "b  = int(input('Enter second number'))\n",
    "true_or_not = (a==b) \n",
    "if a == b:\n",
    "    print(true_or_not)\n",
    "\n"
   ]
  },
  {
   "cell_type": "code",
   "execution_count": 33,
   "metadata": {},
   "outputs": [
    {
     "data": {
      "text/plain": [
       "False"
      ]
     },
     "execution_count": 33,
     "metadata": {},
     "output_type": "execute_result"
    }
   ],
   "source": [
    "#Q12\n",
    "not(True and True)#This logical operator would give you the opposite e.g. if the function is true the output would be false\n",
    "True or False #Only one function has to be true in order for the output to be true, if they're both false output would be false.\n",
    "not(True and False) #This logical operators means that if both of the variables in the parentheses are true the output would be false, however if only one or none are true output would come as true.\n",
    "False and False #for this logical operator both of the statements have to be true. in order for the output to be true."
   ]
  },
  {
   "cell_type": "code",
   "execution_count": 64,
   "metadata": {},
   "outputs": [
    {
     "name": "stdout",
     "output_type": "stream",
     "text": [
      "enter your total marks scored: 35\n",
      "You have passed!!\n"
     ]
    }
   ],
   "source": [
    "#Q13\n",
    "PM = int(input(\"enter your total marks scored: \"))\n",
    "true_or_not = (35<=PM)\n",
    "if true_or_not is True:\n",
    "    print(\"You have passed!!\")\n",
    "else:\n",
    "    print(\"you have failed, better luck next time!\")"
   ]
  },
  {
   "cell_type": "code",
   "execution_count": null,
   "metadata": {},
   "outputs": [],
   "source": []
  },
  {
   "cell_type": "code",
   "execution_count": null,
   "metadata": {},
   "outputs": [],
   "source": []
  }
 ],
 "metadata": {
  "kernelspec": {
   "display_name": "Python 3",
   "language": "python",
   "name": "python3"
  },
  "language_info": {
   "codemirror_mode": {
    "name": "ipython",
    "version": 3
   },
   "file_extension": ".py",
   "mimetype": "text/x-python",
   "name": "python",
   "nbconvert_exporter": "python",
   "pygments_lexer": "ipython3",
   "version": "3.8.3"
  }
 },
 "nbformat": 4,
 "nbformat_minor": 4
}
